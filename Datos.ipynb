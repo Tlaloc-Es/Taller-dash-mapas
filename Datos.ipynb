{
 "cells": [
  {
   "cell_type": "code",
   "execution_count": 5,
   "metadata": {},
   "outputs": [],
   "source": [
    "import pandas as pd"
   ]
  },
  {
   "cell_type": "code",
   "execution_count": 6,
   "metadata": {},
   "outputs": [],
   "source": [
    "df = pd.read_csv('./data/unc.csv')"
   ]
  },
  {
   "cell_type": "code",
   "execution_count": 7,
   "metadata": {},
   "outputs": [
    {
     "output_type": "execute_result",
     "data": {
      "text/plain": "array(['Homicidio', 'Lesiones', 'Feminicidio',\n       'Otros delitos que atentan contra la vida y la integridad corporal',\n       'Secuestro', 'Tráfico de menores', 'Rapto',\n       'Otros delitos que atentan contra la libertad personal',\n       'Extorsión', 'Corrupción de menores', 'Trata de personas',\n       'Otros delitos contra la sociedad', 'Aborto'], dtype=object)"
     },
     "metadata": {},
     "execution_count": 7
    }
   ],
   "source": [
    "df['Tipo de delito'].unique()"
   ]
  },
  {
   "cell_type": "code",
   "execution_count": 10,
   "metadata": {},
   "outputs": [
    {
     "output_type": "execute_result",
     "data": {
      "text/plain": "     Total                          Entidad\n0    268.0                   Aguascalientes\n1   1600.0                  Baja California\n2    325.0              Baja California Sur\n3    184.0                         Campeche\n4   1525.0                          Chiapas\n5   1838.0                        Chihuahua\n6   1684.0                 Ciudad de México\n7    532.0             Coahuila de Zaragoza\n8    690.0                           Colima\n9    499.0                          Durango\n10  3102.0                       Guanajuato\n11  2844.0                         Guerrero\n12   717.0                          Hidalgo\n13  2285.0                          Jalisco\n14  2686.0              Michoacán de Ocampo\n15   916.0                          Morelos\n16  3054.0                           México\n17   100.0                          Nayarit\n18  1408.0                       Nuevo León\n19  1745.0                           Oaxaca\n20  1374.0                           Puebla\n21   465.0                        Querétaro\n22   278.0                     Quintana Roo\n23   553.0                  San Luis Potosí\n24  1767.0                          Sinaloa\n25  1116.0                           Sonora\n26   736.0                          Tabasco\n27  1847.0                       Tamaulipas\n28   386.0                         Tlaxcala\n29  2140.0  Veracruz de Ignacio de la Llave\n30   110.0                          Yucatán\n31   746.0                        Zacatecas",
      "text/html": "<div>\n<style scoped>\n    .dataframe tbody tr th:only-of-type {\n        vertical-align: middle;\n    }\n\n    .dataframe tbody tr th {\n        vertical-align: top;\n    }\n\n    .dataframe thead th {\n        text-align: right;\n    }\n</style>\n<table border=\"1\" class=\"dataframe\">\n  <thead>\n    <tr style=\"text-align: right;\">\n      <th></th>\n      <th>Total</th>\n      <th>Entidad</th>\n    </tr>\n  </thead>\n  <tbody>\n    <tr>\n      <th>0</th>\n      <td>268.0</td>\n      <td>Aguascalientes</td>\n    </tr>\n    <tr>\n      <th>1</th>\n      <td>1600.0</td>\n      <td>Baja California</td>\n    </tr>\n    <tr>\n      <th>2</th>\n      <td>325.0</td>\n      <td>Baja California Sur</td>\n    </tr>\n    <tr>\n      <th>3</th>\n      <td>184.0</td>\n      <td>Campeche</td>\n    </tr>\n    <tr>\n      <th>4</th>\n      <td>1525.0</td>\n      <td>Chiapas</td>\n    </tr>\n    <tr>\n      <th>5</th>\n      <td>1838.0</td>\n      <td>Chihuahua</td>\n    </tr>\n    <tr>\n      <th>6</th>\n      <td>1684.0</td>\n      <td>Ciudad de México</td>\n    </tr>\n    <tr>\n      <th>7</th>\n      <td>532.0</td>\n      <td>Coahuila de Zaragoza</td>\n    </tr>\n    <tr>\n      <th>8</th>\n      <td>690.0</td>\n      <td>Colima</td>\n    </tr>\n    <tr>\n      <th>9</th>\n      <td>499.0</td>\n      <td>Durango</td>\n    </tr>\n    <tr>\n      <th>10</th>\n      <td>3102.0</td>\n      <td>Guanajuato</td>\n    </tr>\n    <tr>\n      <th>11</th>\n      <td>2844.0</td>\n      <td>Guerrero</td>\n    </tr>\n    <tr>\n      <th>12</th>\n      <td>717.0</td>\n      <td>Hidalgo</td>\n    </tr>\n    <tr>\n      <th>13</th>\n      <td>2285.0</td>\n      <td>Jalisco</td>\n    </tr>\n    <tr>\n      <th>14</th>\n      <td>2686.0</td>\n      <td>Michoacán de Ocampo</td>\n    </tr>\n    <tr>\n      <th>15</th>\n      <td>916.0</td>\n      <td>Morelos</td>\n    </tr>\n    <tr>\n      <th>16</th>\n      <td>3054.0</td>\n      <td>México</td>\n    </tr>\n    <tr>\n      <th>17</th>\n      <td>100.0</td>\n      <td>Nayarit</td>\n    </tr>\n    <tr>\n      <th>18</th>\n      <td>1408.0</td>\n      <td>Nuevo León</td>\n    </tr>\n    <tr>\n      <th>19</th>\n      <td>1745.0</td>\n      <td>Oaxaca</td>\n    </tr>\n    <tr>\n      <th>20</th>\n      <td>1374.0</td>\n      <td>Puebla</td>\n    </tr>\n    <tr>\n      <th>21</th>\n      <td>465.0</td>\n      <td>Querétaro</td>\n    </tr>\n    <tr>\n      <th>22</th>\n      <td>278.0</td>\n      <td>Quintana Roo</td>\n    </tr>\n    <tr>\n      <th>23</th>\n      <td>553.0</td>\n      <td>San Luis Potosí</td>\n    </tr>\n    <tr>\n      <th>24</th>\n      <td>1767.0</td>\n      <td>Sinaloa</td>\n    </tr>\n    <tr>\n      <th>25</th>\n      <td>1116.0</td>\n      <td>Sonora</td>\n    </tr>\n    <tr>\n      <th>26</th>\n      <td>736.0</td>\n      <td>Tabasco</td>\n    </tr>\n    <tr>\n      <th>27</th>\n      <td>1847.0</td>\n      <td>Tamaulipas</td>\n    </tr>\n    <tr>\n      <th>28</th>\n      <td>386.0</td>\n      <td>Tlaxcala</td>\n    </tr>\n    <tr>\n      <th>29</th>\n      <td>2140.0</td>\n      <td>Veracruz de Ignacio de la Llave</td>\n    </tr>\n    <tr>\n      <th>30</th>\n      <td>110.0</td>\n      <td>Yucatán</td>\n    </tr>\n    <tr>\n      <th>31</th>\n      <td>746.0</td>\n      <td>Zacatecas</td>\n    </tr>\n  </tbody>\n</table>\n</div>"
     },
     "metadata": {},
     "execution_count": 10
    }
   ],
   "source": [
    "df = df[df['Año']==2016]\n",
    "df = df[df['Tipo de delito']=='Homicidio']\n",
    "df.groupby('Entidad').sum().reset_index()[['Total', 'Entidad']]"
   ]
  }
 ],
 "metadata": {
  "kernelspec": {
   "display_name": "Python 3",
   "language": "python",
   "name": "python3"
  },
  "language_info": {
   "codemirror_mode": {
    "name": "ipython",
    "version": 3
   },
   "file_extension": ".py",
   "mimetype": "text/x-python",
   "name": "python",
   "nbconvert_exporter": "python",
   "pygments_lexer": "ipython3",
   "version": "3.6.9"
  }
 },
 "nbformat": 4,
 "nbformat_minor": 2
}